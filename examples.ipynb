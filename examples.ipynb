{
 "cells": [
  {
   "cell_type": "markdown",
   "id": "dcd1723a-b3fc-4578-886c-23ddc47df378",
   "metadata": {
    "editable": true,
    "slideshow": {
     "slide_type": ""
    },
    "tags": []
   },
   "source": [
    "# PyCUDA primal-dual algorithms for TV/TGV-constrained imaging problems - Example notebook\n",
    "This notebook's purpose is to reproduce the numerical experiments in the article:\n",
    "> Kristian Bredies. Recovering piecewise smooth multichannel images by minimization of convex functionals with total generalized variation penalty. _Lecture Notes in Computer Science_, 8293:44-77, 2014.\n",
    "\n",
    "In particular, it demonstrates the implemented primal-dual algorithms for solving variational problems with total variation (TV) as well as total generalized variation (TGV) regularization, i.e., problems of the type\n",
    "$$ \\min_u \\ D(u) + R(u) $$\n",
    "where $D$ is a discrepancy functional associated to an imaging problem and $R$ is either the (discrete) total variation\n",
    "$$\n",
    "R(u) = \\alpha_1 \\mathrm{TV}(u) = \\alpha_1 \\| \\nabla u \\|_{1}\n",
    "$$\n",
    "for $\\alpha_0 > 0$ or the (discrete) total generalized variation of second order\n",
    "$$\n",
    "R(u) = \\mathrm{TGV}_\\alpha^2(u) = \\min_w \\ \\alpha_1 \\| \\nabla u - w \\|_1 + \\alpha_0 \\| \\mathcal{E} w \\|_1\n",
    "$$\n",
    "for $\\alpha_0 > 0$, $\\alpha_1 > 0$ and $\\mathcal{E}w = \\frac12(\\nabla u + \\nabla u^\\perp)$ the symmetrized derivative of the vector field $w$. The computations are performed on regular rectangular grids in two dimensions and with multichannel data such as color images. Please confer the above-referenced publication for more details."
   ]
  },
  {
   "cell_type": "markdown",
   "id": "d9a86684-a63f-4b7a-84d2-b6dca8047475",
   "metadata": {
    "editable": true,
    "slideshow": {
     "slide_type": ""
    },
    "tags": []
   },
   "source": [
    "## Initialization\n",
    "First, we import the necessary modules."
   ]
  },
  {
   "cell_type": "code",
   "execution_count": null,
   "id": "024ddcbd-8431-4aba-b3cc-e85345e91cb4",
   "metadata": {
    "editable": true,
    "slideshow": {
     "slide_type": ""
    },
    "tags": []
   },
   "outputs": [],
   "source": [
    "import pycuda.autoinit\n",
    "from matplotlib.pyplot import subplots, imread, imshow"
   ]
  },
  {
   "cell_type": "markdown",
   "id": "61ebbf18-44ab-463b-b975-b916ad7e60ac",
   "metadata": {
    "editable": true,
    "jp-MarkdownHeadingCollapsed": true,
    "slideshow": {
     "slide_type": ""
    },
    "tags": []
   },
   "source": [
    "## Denoising examples\n",
    "The following example code calls the implemented primal-dual algorithm for image denoising with TV/TGV regularization. This method aims at solving the optimization problem\n",
    "$$\n",
    "\\min_u \\ \\frac1p \\| u - f \\|_p^p + R(u)\n",
    "$$\n",
    "for $f$ a noisy image and $p \\in \\{1, 2\\}$. The corresponding functions are `tv_denoise` and `tgv_denoise` from `denoise_pycuda`. They are called as follows:\n",
    "```\n",
    "tv_denoise(f, alpha1, norm, maxiter, vis)\n",
    "tgv_denoise(f, alpha1, fac, norm, maxiter, vis)\n",
    "```\n",
    "Here, `f` is the noisy image, `alpha1` corresponds to the parameter $\\alpha_1$, `fac` determines $\\alpha_0 = \\alpha_1 \\cdot \\mathrm{fac}$, `norm` corresponds to $p$, `maxiter` is the number of iterations and `vis` triggers a visualization of the current iterate every `vis`th iteration if positive."
   ]
  },
  {
   "cell_type": "code",
   "execution_count": null,
   "id": "2db970e2-9951-4c53-b7d7-bbef0965a443",
   "metadata": {
    "editable": true,
    "slideshow": {
     "slide_type": ""
    },
    "tags": []
   },
   "outputs": [],
   "source": [
    "from denoise_pycuda import tv_denoise, tgv_denoise\n",
    "from numpy import random, clip"
   ]
  },
  {
   "cell_type": "markdown",
   "id": "8f5ff72b-dc8c-42f5-9ae7-e3c6e161f061",
   "metadata": {
    "editable": true,
    "slideshow": {
     "slide_type": ""
    },
    "tags": []
   },
   "source": [
    "### Example 1: $L^2$-denoising\n",
    "This example demonstrates the case $p=2$. Gaussian noise with variance $\\sigma = 0.2$ is added and the denoising methods are called with $\\alpha_1$ that give best PSNR values within a reasonable number of iterations."
   ]
  },
  {
   "cell_type": "code",
   "execution_count": null,
   "id": "b4efc15a-2d9b-467b-a121-3a027e4ecfab",
   "metadata": {
    "editable": true,
    "slideshow": {
     "slide_type": ""
    },
    "tags": []
   },
   "outputs": [],
   "source": [
    "random.seed(14031621)\n",
    "u_clean = imread(\"test_data/alinas_eye.png\")\n",
    "f = u_clean + random.randn(*u_clean.shape) * 0.2\n",
    "u_tv = tv_denoise(f, 0.305, 2, 500, -1)\n",
    "u_tgv = tgv_denoise(f, 0.288, 2.0, 2, 500, -1)"
   ]
  },
  {
   "cell_type": "markdown",
   "id": "f4c51d97-4edf-40c2-8b36-e8c3096c8c2b",
   "metadata": {
    "editable": true,
    "slideshow": {
     "slide_type": ""
    },
    "tags": []
   },
   "source": [
    "The results can be visualized via `matplotlib.pyplot`."
   ]
  },
  {
   "cell_type": "code",
   "execution_count": null,
   "id": "2bbd4dae-440e-4918-83af-b1da35759982",
   "metadata": {
    "editable": true,
    "slideshow": {
     "slide_type": ""
    },
    "tags": []
   },
   "outputs": [],
   "source": [
    "fig, ((ax1, ax2), (ax3, ax4)) = subplots(2, 2, figsize=(13, 10))\n",
    "ax1.imshow(u_clean); ax1.axis('off'); ax1.set_title('original image')\n",
    "ax2.imshow(clip(f, 0, 1)); ax2.axis('off'); ax2.set_title('noisy image')\n",
    "ax3.imshow(clip(u_tv, 0, 1)); ax3.axis('off'); ax3.set_title('TV denoising')\n",
    "ax4.imshow(clip(u_tgv, 0, 1)); ax4.axis('off'); _ = ax4.set_title('TGV denoising')"
   ]
  },
  {
   "cell_type": "markdown",
   "id": "3d848ca1-4bf4-4107-8129-428c19c48e17",
   "metadata": {
    "editable": true,
    "slideshow": {
     "slide_type": ""
    },
    "tags": []
   },
   "source": [
    "### Example 2: $L^2$-denoising\n",
    "This example reproduces Fig. 2 in *LNCS 8293:44-77, 2014*. Again, $p=2$ and $\\alpha_1$ such that the results are PSNR-optimal."
   ]
  },
  {
   "cell_type": "code",
   "execution_count": null,
   "id": "d3cf1a5a-2e18-4459-973e-aaa9d1437b9f",
   "metadata": {},
   "outputs": [],
   "source": [
    "# computation\n",
    "random.seed(14031621)\n",
    "u_clean = imread(\"test_data/wet_leaf.png\")\n",
    "f = u_clean + random.randn(*u_clean.shape) * 0.2\n",
    "u_tv = tv_denoise(f, 0.31, 2, 500, -1)\n",
    "u_tgv = tgv_denoise(f, 0.298, 2.0, 2, 500, -1)\n",
    "\n",
    "# visualization\n",
    "fig, ((ax1, ax2), (ax3, ax4)) = subplots(2, 2, figsize=(13, 10))\n",
    "ax1.imshow(u_clean); ax1.axis('off'); ax1.set_title('original image')\n",
    "ax2.imshow(clip(f, 0, 1)); ax2.axis('off'); ax2.set_title('noisy image')\n",
    "ax3.imshow(clip(u_tv, 0, 1)); ax3.axis('off'); ax3.set_title('TV denoising')\n",
    "ax4.imshow(clip(u_tgv, 0, 1)); ax4.axis('off'); _ = ax4.set_title('TGV denoising')"
   ]
  },
  {
   "cell_type": "markdown",
   "id": "ec69c224-4d08-4407-a1f2-4eec37688d4a",
   "metadata": {},
   "source": [
    "### Example 3: $L^1$-denoising\n",
    "\n",
    "This example demonstrates the case $p=1$ and reproduces Fig. 3 in *LNCS 8293:44-77, 2014*. Impulsive noise is applied (1/3 of the data is replaced by random values) and the denoising methods are called with PSNR-optimal $\\alpha_1$."
   ]
  },
  {
   "cell_type": "code",
   "execution_count": null,
   "id": "3050d208-77db-4244-bd96-3e76f2912f37",
   "metadata": {},
   "outputs": [],
   "source": [
    "# computation\n",
    "random.seed(14031621)\n",
    "u_clean = imread(\"test_data/balloons2.png\")\n",
    "noise = random.rand(*u_clean.shape)\n",
    "pattern = random.rand(*u_clean.shape) < 1/3\n",
    "f = u_clean * (1 - pattern) + noise * pattern\n",
    "u_tv = tv_denoise(f, 0.86, 1, 1000, -1)\n",
    "u_tgv = tgv_denoise(f, 0.82, 2.0, 1, 1000, -1)\n",
    "\n",
    "# visualization\n",
    "fig, ((ax1, ax2), (ax3, ax4)) = subplots(2, 2, figsize=(10, 10))\n",
    "ax1.imshow(u_clean); ax1.axis('off'); ax1.set_title('original image')\n",
    "ax2.imshow(clip(f, 0, 1)); ax2.axis('off'); ax2.set_title('noisy image')\n",
    "ax3.imshow(clip(u_tv, 0, 1)); ax3.axis('off'); ax3.set_title('TV denoising')\n",
    "ax4.imshow(clip(u_tgv, 0, 1)); ax4.axis('off'); _ = ax4.set_title('TGV denoising')"
   ]
  }
 ],
 "metadata": {
  "kernelspec": {
   "display_name": "Python 3 (ipykernel)",
   "language": "python",
   "name": "python3"
  },
  "language_info": {
   "codemirror_mode": {
    "name": "ipython",
    "version": 3
   },
   "file_extension": ".py",
   "mimetype": "text/x-python",
   "name": "python",
   "nbconvert_exporter": "python",
   "pygments_lexer": "ipython3",
   "version": "3.11.9"
  }
 },
 "nbformat": 4,
 "nbformat_minor": 5
}
